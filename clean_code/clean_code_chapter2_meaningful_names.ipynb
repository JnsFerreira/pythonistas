{
 "cells": [
  {
   "cell_type": "markdown",
   "id": "ea4f9bff-63f1-4db1-8c95-019474444d8e",
   "metadata": {},
   "source": [
    "# Chapter 2 - Meaningful Names"
   ]
  },
  {
   "cell_type": "markdown",
   "id": "07a9cad9-fd7b-4e61-ba36-ac96a9e20ac1",
   "metadata": {},
   "source": [
    "## Use Intention-Revealing Names\n",
    "\n",
    "The name of a variable, function, or class, should answer all the big questions. It should tell you why it exists, what it does, and how it is used. If a name requires a comment, then the name does not reveal its intent."
   ]
  },
  {
   "cell_type": "code",
   "execution_count": 7,
   "id": "6e06e5ac-af71-4acc-bda7-4fb9c6e81f26",
   "metadata": {},
   "outputs": [],
   "source": [
    "d: int = 10 # elapsed time in days"
   ]
  },
  {
   "cell_type": "code",
   "execution_count": 12,
   "id": "fcacae5b-b47a-44f4-93e4-6e9599c71f27",
   "metadata": {},
   "outputs": [],
   "source": [
    "def get_them(the_list):\n",
    "    list1 = []\n",
    "    \n",
    "    for x in the_list:\n",
    "        if x[0] == 4:\n",
    "            list1.append(x)\n",
    "            \n",
    "    return list1"
   ]
  },
  {
   "cell_type": "markdown",
   "id": "d83fccaa-0b79-455e-a4f8-df1845f8139b",
   "metadata": {},
   "source": [
    "Why is it hard to tell what this code is doing?\n",
    "\n",
    "\n",
    "1. What kinds of things are in `the_list`?\n",
    "2. What is the significance of the value 4?\n",
    "3. How would I use the list being returned?\n",
    "4. What is the significance of the zeroth subscript of an item in the_list?"
   ]
  },
  {
   "cell_type": "markdown",
   "id": "23ed248f-4688-413b-89cc-1c2887f48610",
   "metadata": {},
   "source": [
    "Say that we’re working in a mine sweeper game. We find that the board is a list of cells called `the_list`. Let’s rename that to `game_board`.\n",
    "\n",
    "Each cell on the board is represented by a simple array. We further find that the zeroth subscript is the location of a status value and that a status value of 4 means “flagged.” Just by giving these concepts names we can improve the code considerably:"
   ]
  },
  {
   "cell_type": "code",
   "execution_count": 13,
   "id": "e8929ead-5cc8-4158-acc3-2f3807995743",
   "metadata": {},
   "outputs": [],
   "source": [
    "from typing import List\n",
    "\n",
    "def get_flagged_cells(game_board: List[int]) -> List:\n",
    "    flagged_cells = []\n",
    "    \n",
    "    for cell in game_board:\n",
    "        if cell[STATUS_VALUE] == FLAGGED:\n",
    "            flagged_cells.append(cell)\n",
    "    \n",
    "    return flagged_cells"
   ]
  },
  {
   "cell_type": "markdown",
   "id": "1f8b52c0-f008-48ce-bcee-4a107e027766",
   "metadata": {},
   "source": [
    "## Avoid Disinformation\n",
    "\n",
    "Do not refer to a grouping of accounts as an `account_list` unless it’s actually a List. The word list means something specific to programmers. If the container holding the accounts is not actually a List, it may lead to false conclusions.1 So `account_group` or `bunch_of_accounts` or just plain `accounts` would be better.\n",
    "\n",
    "It is very helpful if names for very similar things sort together alphabetically and if the differences are very obvious, because the developer is likely to pick an object by name without seeing your copious comments or even the list of methods supplied by that class."
   ]
  },
  {
   "cell_type": "code",
   "execution_count": 14,
   "id": "9dbe9415-5507-4b8d-a350-68932fad0a57",
   "metadata": {},
   "outputs": [
    {
     "name": "stdout",
     "output_type": "stream",
     "text": [
      "<class 'tuple'>\n"
     ]
    }
   ],
   "source": [
    "account_list = ('Account1', 'Account2', 'Account3')\n",
    "print(type(account_list))"
   ]
  },
  {
   "cell_type": "markdown",
   "id": "ca484fc4-a3cd-44b1-b0dc-cd270adaddcc",
   "metadata": {},
   "source": [
    "## Meaningful Distinctions\n",
    "\n",
    "Noise words are another meaningless distinction. Imagine that you have a Product class. If you have another called ProductInfo or ProductData, you have made the names different without making them mean anything different. Info and Data are indistinct noise words like a, an, and the.\n",
    "\n",
    "In the absence of specific conventions, the variable moneyAmount is indistinguishable from money, customerInfo is indistinguishable from customer, accountData is indistinguishable from account, and theMessage is indistinguishable from message. Distinguish names in such a way that the reader knows what the differences offer.\n",
    "\n",
    "Noise words are another meaningless distinction. Imagine that you have a `Product` class. If you have another called `ProductInfo` or `ProductData`, you have made the names different without making them mean anything different."
   ]
  },
  {
   "cell_type": "markdown",
   "id": "9774b149-6181-4672-b56b-826fae8cdac8",
   "metadata": {},
   "source": [
    "## Use pronounceable Names\n",
    "\n",
    "If you can’t pronounce it, you can’t discuss it without sounding like an idiot."
   ]
  },
  {
   "cell_type": "code",
   "execution_count": 21,
   "id": "0fd371f7-88a0-4cea-ae98-7106d7150cb3",
   "metadata": {},
   "outputs": [],
   "source": [
    "from datetime import datetime\n",
    "from dataclasses import dataclass\n",
    "\n",
    "# From this\n",
    "@dataclass\n",
    "class DtaRcrd102:\n",
    "    genymdhms: datetime\n",
    "    modymdhms: datetime\n",
    "    pszqint: str = '102'\n",
    "    \n",
    "    \n",
    "# To this\n",
    "@dataclass\n",
    "class Customer:\n",
    "    generation_timestamp: datetime\n",
    "    modification_timestamp: datetime\n",
    "    record_id: str = '102'"
   ]
  },
  {
   "cell_type": "markdown",
   "id": "18c05dd2-fb3b-48b9-964c-e275a48d0ab2",
   "metadata": {},
   "source": [
    "## Use Searchable Names\n",
    "\n",
    "The length of a name should correspond to the size of its scope"
   ]
  },
  {
   "cell_type": "code",
   "execution_count": 31,
   "id": "e927c274-fa70-4298-8d6c-b477d1ce8d25",
   "metadata": {},
   "outputs": [
    {
     "name": "stdout",
     "output_type": "stream",
     "text": [
      "Your salary is 8000 by a month\n"
     ]
    }
   ],
   "source": [
    "# From this\n",
    "\n",
    "s = 50 * 8 * 5 * 4\n",
    "print(f\"Your salary is {s} by a month\")"
   ]
  },
  {
   "cell_type": "code",
   "execution_count": 35,
   "id": "597f7f67-60f4-4ebb-873b-0d9ef5b43ca7",
   "metadata": {},
   "outputs": [
    {
     "name": "stdout",
     "output_type": "stream",
     "text": [
      "Your salary is 8000 by a month\n"
     ]
    }
   ],
   "source": [
    "# To this\n",
    "DAYS_PER_WEEK = 5\n",
    "WEEKS_PER_MONTH = 4\n",
    "WORKING_HOUR_PER_DAYS = 8\n",
    "AMOUNT_PER_WORKING_HOUR = 50\n",
    "\n",
    "salary =  AMOUNT_PER_WORKING_HOUR * WORKING_HOUR_PER_DAYS * DAYS_PER_WEEK * WEEKS_PER_MONTH\n",
    "\n",
    "print(f\"Your salary is {salary} by a month\")"
   ]
  },
  {
   "cell_type": "markdown",
   "id": "96594fde-15a5-4e8b-9d90-afbf0c3f2a48",
   "metadata": {},
   "source": [
    "## Avoid Mental Mapping\n",
    "\n",
    "Readers shouldn’t have to mentally translate your names into other names they already know.\n",
    "\n",
    "This is a problem with single-letter variable names. Certainly a loop counter may be named i or j or k (though never l!)\n",
    "\n",
    "One difference between a smart programmer and a professional programmer is that\n",
    "the professional understands that clarity is king"
   ]
  },
  {
   "cell_type": "markdown",
   "id": "b44ddff1-f6d6-44a0-9db1-bad6cc418e37",
   "metadata": {},
   "source": [
    "## Class Names\n",
    "\n",
    "Classes and objects should have a noun or non phrase. A class name should not be a verb.\n",
    "\n",
    "**Good Names:** Customer, Account, AddressParser\n",
    "\n",
    "**Avoid**: Manager, Processor, Data, Info, etc."
   ]
  },
  {
   "cell_type": "markdown",
   "id": "3facd011-a632-4512-b2b9-7b5fb51c3ae0",
   "metadata": {},
   "source": [
    "## Method Names\n",
    "\n",
    "Methods should have a verb or verb phrase names.\n",
    "\n",
    "**Good Names**: postPayment, deletePage, save, etc.\n",
    "\n",
    "Accessors, mutators and predicates should be named with their prefix, like: get, set and is."
   ]
  },
  {
   "cell_type": "code",
   "execution_count": 53,
   "id": "9af8baa8-6e26-4f4d-8627-9fd568848ebb",
   "metadata": {},
   "outputs": [],
   "source": [
    "# Bad Example\n",
    "\n",
    "class CustomerData:\n",
    "    def __init__(self, customer_name):\n",
    "        self.customer_name = customer_name\n",
    "        \n",
    "    def name(self):\n",
    "        return self.customer_name"
   ]
  },
  {
   "cell_type": "code",
   "execution_count": 50,
   "id": "7091b090-1940-4c11-91dd-9389066939a4",
   "metadata": {},
   "outputs": [],
   "source": [
    "# Good Example\n",
    "from dataclasses import dataclass\n",
    "\n",
    "@dataclass\n",
    "class Customer:\n",
    "    name: str\n",
    "    \n",
    "    def get_name(self) -> str:\n",
    "        return self.name"
   ]
  },
  {
   "cell_type": "markdown",
   "id": "69c002c6-0886-45a1-bc85-1045303511cb",
   "metadata": {},
   "source": [
    "## Don’t Be Cute\n",
    "\n",
    "Choose clarity over entertainment value. "
   ]
  },
  {
   "cell_type": "code",
   "execution_count": 57,
   "id": "c68bd582-b9b8-42f8-87f4-0e29faf8b54f",
   "metadata": {},
   "outputs": [],
   "source": [
    "# Instead of \n",
    "def holy_hand_granade():\n",
    "    ...\n",
    "    \n",
    "# Use \n",
    "def delete_item():\n",
    "    ..."
   ]
  },
  {
   "cell_type": "markdown",
   "id": "d9e8d157-94ce-45d5-8cc6-112683352879",
   "metadata": {},
   "source": [
    "## Pick One Word per Concept\n",
    "\n",
    "It’s confusing to have *fetch, retrieve and get* as equivalent methods of different classes. Pick one!\n",
    "\n",
    "Likewise, it’s confusing to have a *controller, manager and driver* in the same code base.\n",
    "\n",
    "A consistent lexicon is a great boon to the programmers who must use your code."
   ]
  },
  {
   "cell_type": "code",
   "execution_count": 58,
   "id": "2cf4f53e-e686-45c2-b72e-24f0f10e2658",
   "metadata": {},
   "outputs": [],
   "source": [
    "# What is the difference?\n",
    "\n",
    "class DeviceManager:\n",
    "    ...\n",
    "    \n",
    "class DeviceController:\n",
    "    ...\n",
    "    \n",
    "class DeviceDriver:\n",
    "    ..."
   ]
  },
  {
   "cell_type": "markdown",
   "id": "4a4928a7-4d8c-47f3-a2eb-50b5948b63c3",
   "metadata": {},
   "source": [
    "## Use Solution Domain Names\n",
    "\n",
    "Go ahead and use computer science (CS) terms, algorithm names, pattern names, math terms, and so forth. \n",
    "\n",
    "Choose technical names is usually the most appropriate options, instead of problem domain names, because we don’t want ours coworkers frequently asking to business what some term or concept is.\n",
    "\n",
    "When there is no “programmer-eese” for what you’re doing, use the name from the problem domain. At least the programmer who maintains your code can ask a domain expert what it means."
   ]
  },
  {
   "cell_type": "markdown",
   "id": "854ae59c-89f1-4e66-a597-fb24b2547267",
   "metadata": {},
   "source": [
    "## Final words\n",
    "The hardest thing about choosing good names is that it requires good descriptive skills and\n",
    "a shared cultural background. This is a teaching issue rather than a technical, business, or\n",
    "management issue. As a result many people in this field don’t learn to do it very well.\n",
    "People are also afraid of renaming things for fear that some other developers will\n",
    "object. We do not share that fear and find that we are actually grateful when names change\n",
    "(for the better). Most of the time we don’t really memorize the names of classes and methods. We use the modern tools to deal with details like that so we can focus on whether the\n",
    "code reads like paragraphs and sentences, or at least like tables and data structure (a sentence isn’t always the best way to display data). You will probably end up surprising someone when you rename, just like you might with any other code improvement. Don’t let it\n",
    "stop you in your tracks.\n",
    "Follow some of these rules and see whether you don’t improve the readability of your\n",
    "code. If you are maintaining someone else’s code, use refactoring tools to help resolve these\n",
    "problems. It will pay off in the short term and continue to pay in the long run"
   ]
  },
  {
   "cell_type": "markdown",
   "id": "70f4193e-fd8e-41f5-a252-993ebb2cf635",
   "metadata": {},
   "source": [
    "# Hands-on\n",
    "\n",
    "Try to improve the code bellow, using all the techniques that you've learned today"
   ]
  },
  {
   "cell_type": "code",
   "execution_count": 85,
   "id": "5510e82a-bef4-451d-859c-38ba52ca0cb9",
   "metadata": {},
   "outputs": [],
   "source": [
    "import datetime\n",
    "\n",
    "class OrderData:\n",
    "    def __init__(self, oid, dt, entrega, items_list):\n",
    "        self.oid = oid\n",
    "        self.dt = dt\n",
    "        self.entrega = entrega\n",
    "        self.items_list = items_list\n",
    "        self.status = 'PENDING'\n",
    "        \n",
    "    def retrieve_items(self):\n",
    "        return self.items_list\n",
    "    \n",
    "    def get_order_date(self):\n",
    "        return self.dt\n",
    "    \n",
    "    def past_days(self):\n",
    "        return self.dt - datetime.datetime.now()\n",
    "    \n",
    "    def set_order_status(self, value):\n",
    "        self.status = value\n",
    "    \n",
    "    def total_price(self):\n",
    "        t = 0\n",
    "        for i in self.items_list:\n",
    "            t += i[1] * i[2]\n",
    "        \n",
    "        return t\n",
    "    \n",
    "    def order_late(self):\n",
    "        return datetime.datetime.now() > self.entrega"
   ]
  },
  {
   "cell_type": "code",
   "execution_count": 86,
   "id": "e4546d4e-1ec6-4136-8cda-5ddb2de8ce69",
   "metadata": {},
   "outputs": [],
   "source": [
    "o = OrderData(\n",
    "    oid=10,\n",
    "    dt=datetime.datetime.now() - datetime.timedelta(days=20),\n",
    "    entrega=datetime.datetime.now() + datetime.timedelta(days=5),\n",
    "    items_list={('Banana', 1, 20), ('Orange', 2, 30), ('Watermelon', 4, 50)}\n",
    ")"
   ]
  },
  {
   "cell_type": "code",
   "execution_count": 87,
   "id": "28ce0961-ccae-4181-82d5-e724b00c8abd",
   "metadata": {},
   "outputs": [
    {
     "data": {
      "text/plain": [
       "{('Banana', 1, 20), ('Orange', 2, 30), ('Watermelon', 4, 50)}"
      ]
     },
     "execution_count": 87,
     "metadata": {},
     "output_type": "execute_result"
    }
   ],
   "source": [
    "o.retrieve_items()"
   ]
  },
  {
   "cell_type": "code",
   "execution_count": 88,
   "id": "e2a02324-31ef-4a7c-a0ca-31e649612027",
   "metadata": {},
   "outputs": [
    {
     "data": {
      "text/plain": [
       "datetime.datetime(2022, 2, 1, 15, 57, 49, 934460)"
      ]
     },
     "execution_count": 88,
     "metadata": {},
     "output_type": "execute_result"
    }
   ],
   "source": [
    "o.get_order_date()"
   ]
  },
  {
   "cell_type": "code",
   "execution_count": 89,
   "id": "be2194ae-4f89-4d2d-ab15-7a13c869a103",
   "metadata": {},
   "outputs": [
    {
     "data": {
      "text/plain": [
       "datetime.timedelta(days=-21, seconds=86399, microseconds=240617)"
      ]
     },
     "execution_count": 89,
     "metadata": {},
     "output_type": "execute_result"
    }
   ],
   "source": [
    "o.past_days()"
   ]
  },
  {
   "cell_type": "code",
   "execution_count": 90,
   "id": "7aebb758-a811-4c81-ba38-684721bab4d5",
   "metadata": {},
   "outputs": [
    {
     "data": {
      "text/plain": [
       "50"
      ]
     },
     "execution_count": 90,
     "metadata": {},
     "output_type": "execute_result"
    }
   ],
   "source": [
    "o.set_order_status(value=50)\n",
    "o.status"
   ]
  },
  {
   "cell_type": "code",
   "execution_count": 91,
   "id": "8f1ffb6f-7ab7-415f-8db4-54d8d53164c8",
   "metadata": {},
   "outputs": [
    {
     "data": {
      "text/plain": [
       "280"
      ]
     },
     "execution_count": 91,
     "metadata": {},
     "output_type": "execute_result"
    }
   ],
   "source": [
    "o.total_price()"
   ]
  },
  {
   "cell_type": "code",
   "execution_count": 92,
   "id": "215445b2-da0f-4794-bc9d-3f5c4d2d98a2",
   "metadata": {},
   "outputs": [
    {
     "data": {
      "text/plain": [
       "False"
      ]
     },
     "execution_count": 92,
     "metadata": {},
     "output_type": "execute_result"
    }
   ],
   "source": [
    "o.order_late()"
   ]
  },
  {
   "cell_type": "code",
   "execution_count": 93,
   "id": "98a3391b-7656-47dc-8cc6-64caea926118",
   "metadata": {},
   "outputs": [],
   "source": [
    "# Your refactored code here. Enjoy :)"
   ]
  },
  {
   "cell_type": "code",
   "execution_count": null,
   "id": "455fcabf-88de-4002-99c9-5e463dbdb2b7",
   "metadata": {},
   "outputs": [],
   "source": []
  }
 ],
 "metadata": {
  "kernelspec": {
   "display_name": "Python 3 (ipykernel)",
   "language": "python",
   "name": "python3"
  },
  "language_info": {
   "codemirror_mode": {
    "name": "ipython",
    "version": 3
   },
   "file_extension": ".py",
   "mimetype": "text/x-python",
   "name": "python",
   "nbconvert_exporter": "python",
   "pygments_lexer": "ipython3",
   "version": "3.9.5"
  }
 },
 "nbformat": 4,
 "nbformat_minor": 5
}
