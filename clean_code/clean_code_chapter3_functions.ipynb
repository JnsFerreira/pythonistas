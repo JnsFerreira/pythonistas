{
 "cells": [
  {
   "cell_type": "markdown",
   "id": "0eb3ecac-6c8a-4d44-b425-2e4f109b73d1",
   "metadata": {},
   "source": [
    "# Chapter 3 - Functions\n",
    "\n",
    "Functions are the first line of organization in any program. Writing them well is the topic of this chapter."
   ]
  },
  {
   "cell_type": "code",
   "execution_count": 1,
   "id": "04c17023-8436-4ecb-80ab-28e45cd33472",
   "metadata": {},
   "outputs": [],
   "source": [
    "def foo():\n",
    "    ..."
   ]
  },
  {
   "cell_type": "markdown",
   "id": "66ba5497-a390-4bda-9499-794e5037ce24",
   "metadata": {},
   "source": [
    "### Small\n",
    "\n",
    "The first rule of functions is that they should be small. The second rule is that they should be smaller than that."
   ]
  },
  {
   "cell_type": "markdown",
   "id": "d32dc05d-20c2-4b69-a527-4d7f3f1b4319",
   "metadata": {},
   "source": [
    "## Do one thing\n",
    "\n",
    "Functions should do just one thing. They should do it well. They should do it only.\n",
    "\n",
    "A way to know that a function is doing more than “one thing” is if you can extract another function from it with a name that is not merely a restatement of its implementation."
   ]
  },
  {
   "cell_type": "markdown",
   "id": "96b95ed4-1224-49b8-ab46-3a2b9e71c8c7",
   "metadata": {},
   "source": [
    "## Sections within Functions\n",
    "\n",
    "Functions that are divided into many sections, probably us doing more than one thing. Functions that do one thing can’t be divided into sections."
   ]
  },
  {
   "cell_type": "markdown",
   "id": "784a5500-8fbf-44f4-b80b-f9a1dd10a697",
   "metadata": {},
   "source": [
    "## One level of abstraction per Function\n",
    "\n",
    "In order to make sure our functions are doing one thing , we need to make sure that the statements are all at the same level of abstraction. Mixing levels of abstraction within a functions is always confusing."
   ]
  },
  {
   "cell_type": "markdown",
   "id": "b1c51af9-b391-47e5-95ea-1d7508b87b36",
   "metadata": {},
   "source": [
    "## Reading code from top to bottom.\n",
    "\n",
    "We want the code to read like a top-down narrative."
   ]
  },
  {
   "cell_type": "markdown",
   "id": "10a48fca-6e4b-4138-8c4a-10825726383d",
   "metadata": {},
   "source": [
    "## Use Descriptive Names\n",
    "\n",
    "Don’t be afraid to make a name long. A long descriptive name is better than a short enigmatic name. A long descriptive name is better than a long descriptive comment."
   ]
  },
  {
   "cell_type": "markdown",
   "id": "ea3856a7-2dc0-44aa-b933-43e136f75961",
   "metadata": {},
   "source": [
    "## Function Arguments\n",
    "\n",
    "0 arg - niladic (ideal)\n",
    "\n",
    "1 arg - monodic\n",
    "\n",
    "2 args - dyadic \n",
    "\n",
    "3 - triadic\n",
    "\n",
    "4+ - polyadic"
   ]
  },
  {
   "cell_type": "markdown",
   "id": "644753ef-6a1f-4cde-9409-d8c41eedbbb9",
   "metadata": {},
   "source": [
    "## Flag Arguments\n",
    "\n",
    "Flag arguments are ugly. Passing a boolean into a function is a truly terrible practice. It immediately complicates the signature of the method, loudly proclaiming that this function does more than one thing. It does one thing if the flag is true and another if the flag is false!"
   ]
  },
  {
   "cell_type": "code",
   "execution_count": 10,
   "id": "bf06aa43-2932-49f7-9c88-ec545b63aa2e",
   "metadata": {},
   "outputs": [],
   "source": [
    "def foo(some_flag: bool):\n",
    "    if flag:\n",
    "        # Do something\n",
    "        ...\n",
    "    else:\n",
    "        # Do another thing\n",
    "        ..."
   ]
  },
  {
   "cell_type": "markdown",
   "id": "524062be-de2a-45f6-b374-0e46c7aeb28d",
   "metadata": {},
   "source": [
    "## Argument Objects\n",
    "\n",
    "When a function seems to need more than two or three arguments, it is likely that some of those arguments ought to be wrapped into a class of their own."
   ]
  },
  {
   "cell_type": "code",
   "execution_count": 4,
   "id": "cba5d938-8158-4954-94d3-ecdba2f8f69e",
   "metadata": {},
   "outputs": [],
   "source": [
    "def make_circle(x: float, y: float, radius: float):\n",
    "    ..."
   ]
  },
  {
   "cell_type": "code",
   "execution_count": 5,
   "id": "26412fda-4920-4233-a14d-21a14c5e8787",
   "metadata": {},
   "outputs": [],
   "source": [
    "from dataclasses import dataclass\n",
    "\n",
    "\n",
    "@dataclass\n",
    "class Point:\n",
    "    x: float\n",
    "    y: float\n",
    "    \n",
    "    \n",
    "\n",
    "def make_circle(center: Point, radius: float):\n",
    "    ..."
   ]
  },
  {
   "cell_type": "markdown",
   "id": "c4100dbe-69cf-4fa7-84ff-9bfe1ee809ff",
   "metadata": {},
   "source": [
    "## Verbs and Keywords\n",
    "\n",
    "Choosing good names for a function can go a long way toward explaining the intent of the function and the order and intent of the arguments. In the case of a monad, the function and argument should form a very nice verb/noun pair."
   ]
  },
  {
   "cell_type": "code",
   "execution_count": 8,
   "id": "c952f838-d89c-4806-836f-8510773a3670",
   "metadata": {},
   "outputs": [],
   "source": [
    "# From\n",
    "# Whatever this “name” thing is, it is being “written.”\n",
    "def write(name: str):\n",
    "    ...\n",
    "    \n",
    "# To\n",
    "# Tells us that the “name” thing is a “ﬁeld.”\n",
    "def write_field(name: str):\n",
    "    ...\n",
    "    \n",
    "    \n",
    "# Another example\n",
    "def assert_equals(expected: any,  actual: any) -> bool:\n",
    "    ...\n",
    "\n",
    "# This strongly mitigates the problem of having to remember the ordering of the arguments.\n",
    "def assert_expected_equal_actual(expected: any,  actual: any) -> bool:\n",
    "    ..."
   ]
  },
  {
   "cell_type": "markdown",
   "id": "159673f6-f2fc-4342-8f1b-2fa5976e785f",
   "metadata": {},
   "source": [
    "## Have No Side Effects\n",
    "\n",
    "Side effects are lies. Your function promises to do one thing, but it also does other hidden things. Sometimes it will make unexpected changes to the variables of its own class. Sometimes it will make them to the parameters passed into the function or to system globals. In either case they are devious and damaging"
   ]
  },
  {
   "cell_type": "code",
   "execution_count": null,
   "id": "b73108bb-9acc-4766-a011-b8825038edeb",
   "metadata": {},
   "outputs": [],
   "source": [
    "class User:\n",
    "    def get_phrase_encoded_by_password(self, password: str):\n",
    "        ...\n",
    "\n",
    "class UserGateway:\n",
    "    def find_user_by_name(user_name: str) -> User:\n",
    "        ...\n",
    "    \n",
    "    \n",
    "class Cryptographer:\n",
    "    def decrypt(self, coded_phrase, password):\n",
    "        ...\n",
    "        \n",
    "        \n",
    "class UserValidator:\n",
    "    def __init__(self, cryptographer: Cryptographer):\n",
    "        self.cryptographer = cryptographer\n",
    "    \n",
    "    def check_password(self, user_name: string, password: str) -> bool:\n",
    "        user = UserGateway().find_user_by_name(user_name=user_name)\n",
    "        \n",
    "        if user:\n",
    "            coded_phrase = user.get_phrase_encoded_by_password(password=password)\n",
    "            phrase = self.cryptographer.decrypt(coded_phrase, password)\n",
    "            \n",
    "            if \"valid_password\" == phrase:\n",
    "                Session.initialize()\n",
    "                return True\n",
    "            \n",
    "        return False\n",
    "            "
   ]
  },
  {
   "cell_type": "markdown",
   "id": "6f95ffc9-08c2-4a26-b51e-2847aaee3af4",
   "metadata": {},
   "source": [
    "The side effect is the call to Session.initialize() , of course. The checkPassword func-\n",
    "tion, by its name, says that it checks the password. The name does not imply that it initializes the session.\n",
    "\n",
    "This side effect creates a temporal coupling. That is, checkPassword can only be\n",
    "called at certain times (in other words, when it is safe to initialize the session). If it is\n",
    "called out of order, session data may be inadvertently lost. Temporal couplings are con-\n",
    "fusing, especially when hidden as a side effect. If you must have a temporal coupling,\n",
    "you should make it clear in the name of the function. In this case we might rename the\n",
    "function checkPasswordAndInitializeSession , though that certainly violates “Do one\n",
    "thing.”"
   ]
  },
  {
   "cell_type": "markdown",
   "id": "fb4b51e7-5f1d-4848-ba4f-f8c9ee59b828",
   "metadata": {},
   "source": [
    "## Command Query Separation\n",
    "\n",
    "Functions should either do something or answer something, but not both. Either your function should change the state of an object, or it should return some information about that object. Doing both often leads to confusion."
   ]
  },
  {
   "cell_type": "code",
   "execution_count": 3,
   "id": "dcf01e7d-ff86-49f5-a58b-65c7da3deef0",
   "metadata": {},
   "outputs": [],
   "source": [
    "\"\"\"\n",
    "Imagine this from the point of view of the reader. \n",
    "What does it mean? \n",
    "Is it asking whether the attribute was previously set to the object? \n",
    "Or is it asking whether the attribute was successfully set to the object? \n",
    "It’s hard to infer the meaning from the call because it’s not clear whether the word “setattr” is a verb or an adjective.\n",
    "\"\"\"\n",
    "\n",
    "# From\n",
    "def set_attribute(obj: any, attribute: str, value: any):\n",
    "    if setattr(obj, attribute, value):\n",
    "        ...\n",
    "        \n",
    "        \n",
    "# To\n",
    "def set_attribute_if_exists(obj: any, attribute: str, value: any):\n",
    "    if hasattr(obj, attribute):\n",
    "        setattr(obj, attribute, value)"
   ]
  },
  {
   "cell_type": "markdown",
   "id": "34f423e1-7cb0-43d3-9162-a7eaa56cfd69",
   "metadata": {},
   "source": [
    "## Prefer Exceptions to Returning Error Codes\n",
    "\n",
    "Returning error codes from command functions is a subtle violation of command query separation. It promotes commands being used as expressions in the predicates of if statements."
   ]
  },
  {
   "cell_type": "code",
   "execution_count": 11,
   "id": "9d7bfd2b-3693-4c07-8515-61320d4621a8",
   "metadata": {},
   "outputs": [],
   "source": [
    "# From\n",
    "OK_CODE = 'OK'\n",
    "ERROR_CODE = 'ERROR'\n",
    "\n",
    "def get_file_content(path: str):\n",
    "    try:\n",
    "        with open(path, 'r') as f:\n",
    "            return f.read()\n",
    "    except FileNotFoundError as e:\n",
    "        return ERROR_CODE\n",
    "    except Exception as e:\n",
    "        return ERROR_CODE\n",
    "    \n",
    "# usage\n",
    "file =  get_file_content(path='/home/unclebob/desktop/my_file.txt') \n",
    "\n",
    "if file <> ERROR_CODE:\n",
    "    ...\n",
    "    \n",
    "    \n",
    "# To\n",
    "class OpenFileError(Exception):\n",
    "    def __init__(self, message: str):\n",
    "        super().__init__(message)\n",
    "\n",
    "def get_file_content(path: str):\n",
    "    try:\n",
    "        with open(path, 'r') as f:\n",
    "            return f.read()\n",
    "    except Exception as e:\n",
    "        raise OpenFileError(f\"Error while opening file. Details: {e}\")"
   ]
  },
  {
   "cell_type": "markdown",
   "id": "1a150a0b-e56a-4cea-abaa-c67380852876",
   "metadata": {},
   "source": [
    "## Error Handling Is One Thing\n",
    "\n",
    "Functions should do one thing. Error handing is one thing. Thus, a function that handles errors should do nothing else. This implies (as in the example above) that if the keyword try exists in a function, it should be the very first word in the function and that there should be nothing after the catch/finally blocks."
   ]
  }
 ],
 "metadata": {
  "kernelspec": {
   "display_name": "Python 3 (ipykernel)",
   "language": "python",
   "name": "python3"
  },
  "language_info": {
   "codemirror_mode": {
    "name": "ipython",
    "version": 3
   },
   "file_extension": ".py",
   "mimetype": "text/x-python",
   "name": "python",
   "nbconvert_exporter": "python",
   "pygments_lexer": "ipython3",
   "version": "3.9.5"
  }
 },
 "nbformat": 4,
 "nbformat_minor": 5
}
