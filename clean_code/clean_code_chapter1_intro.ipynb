{
 "cells": [
  {
   "cell_type": "markdown",
   "id": "083cd2ca-2b46-4306-b739-3f82becf4d3f",
   "metadata": {},
   "source": [
    "# Clean Code - Introduction\n",
    "\n",
    "<img src='imgs/wtf.png'>\n",
    "\n",
    "Which door represents your code? Which door represents your team or your company?\n",
    "\n",
    "### Bad Code\n",
    "\n",
    "Have you ever been significantly impeded by bad code? If you are a programmer of\n",
    "any experience then you’ve felt this impediment many times. Indeed, we have a name for\n",
    "it. We call it wading.\n",
    "\n",
    "### What is clean code?\n",
    "\n",
    "There are probably as many definitions as there are programmers\n",
    "\n",
    "\n",
    "* Bjarne Stroustrup, inventor of C++ and author of The C++ Programming Language\n",
    "\n",
    "    I like my code to be elegant and efficient. The logic should be straightforward to make it hard for bugs to hide, the dependencies minimal to ease maintenance, error handling complete according to an articulated strategy, and performance close to optimal so as not to tempt people to make the code messy with unprincipled optimizations. Clean code does one thing well\n",
    "    \n",
    "\n",
    "* Grady Booch, author of Object Oriented Analysis and Design with Applications\n",
    "\n",
    "    Clean code is simple and direct. Clean code reads like well-written prose. Clean code never obscures the designer’s intent but rather is full of crisp abstractions and straightforward lines of control.\n",
    "    \n",
    "### The total cost of owning a mess\n",
    "\n",
    "If you have been a programmer for more than two or three years, you have probably been significantly slowed down by someone else’s messy code. \n",
    "If you have been a programmer for longer than two or three years, you have probably been slowed down by messy code.\n",
    "\n",
    "Every change they make to the code breaks two or three other parts of the code. No change is trivial.\n",
    " \n",
    "As the mess builds, the productivity of the team continues to decrease, asymptotically approaching zero. As productivity decreases, management does the only thing they can; they add more staff to the project in hopes of increasing productivity"
   ]
  },
  {
   "cell_type": "code",
   "execution_count": null,
   "id": "0f32a7b8-3e96-4bdc-87f1-3f7d1bdb48a3",
   "metadata": {},
   "outputs": [],
   "source": []
  }
 ],
 "metadata": {
  "kernelspec": {
   "display_name": "Python 3 (ipykernel)",
   "language": "python",
   "name": "python3"
  },
  "language_info": {
   "codemirror_mode": {
    "name": "ipython",
    "version": 3
   },
   "file_extension": ".py",
   "mimetype": "text/x-python",
   "name": "python",
   "nbconvert_exporter": "python",
   "pygments_lexer": "ipython3",
   "version": "3.9.5"
  }
 },
 "nbformat": 4,
 "nbformat_minor": 5
}
