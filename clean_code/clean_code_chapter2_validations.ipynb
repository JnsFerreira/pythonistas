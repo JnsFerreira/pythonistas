{
 "cells": [
  {
   "cell_type": "markdown",
   "id": "ea4f9bff-63f1-4db1-8c95-019474444d8e",
   "metadata": {},
   "source": [
    "# Validation"
   ]
  },
  {
   "cell_type": "markdown",
   "id": "07a9cad9-fd7b-4e61-ba36-ac96a9e20ac1",
   "metadata": {},
   "source": [
    "## Use\n",
    "\n",
    "We use the validation as a protection to our code, the main idea is to check if the values are set as expected to  make sure that the code will work correctly."
   ]
  },
  {
   "cell_type": "code",
   "execution_count": 7,
   "id": "6e06e5ac-af71-4acc-bda7-4fb9c6e81f26",
   "metadata": {},
   "outputs": [],
   "source": [
    "import enum\n",
    "\n",
    "class OrderStatus(enum.Enum):\n",
    "    PENDING = 1\n",
    "    PAID = 2\n",
    "\n",
    "\n",
    "class Order:        \n",
    "    def set_order_status(self, value):\n",
    "        self.status = value\n"
   ]
  },
  {
   "cell_type": "code",
   "execution_count": 12,
   "id": "fcacae5b-b47a-44f4-93e4-6e9599c71f27",
   "metadata": {},
   "outputs": [],
   "source": [
    "import enum\n",
    "\n",
    "\n",
    "class ValueTypeError(Exception):\n",
    "    def __init__(self, variable: str, value_type: str) -> None:\n",
    "        super().__init__(f'Value type {value_type} is not supported for {variable}')\n",
    "\n",
    "\n",
    "class OrderStatus(enum.Enum):\n",
    "    PENDING = 1\n",
    "    PAID = 2\n",
    "\n",
    "\n",
    "class Order:\n",
    "    def set_order_status(self, value):\n",
    "        if not isinstance(value, OrderStatus):\n",
    "            raise ValueTypeError(value, 'OrderStatus')\n",
    "        self.status = value"
   ]
  },
  {
   "cell_type": "markdown",
   "id": "23ed248f-4688-413b-89cc-1c2887f48610",
   "metadata": {},
   "source": [
    "This examples shows how do we validate the value before it is set by checking if the instance of that value is compatible with what OrderData expects. But when dealing with validations you will problably do a lot of code to check if everything is working correctly, and because of it, someone with a great hard created the following lib."
   ]
  },
  {
   "cell_type": "code",
   "execution_count": null,
   "id": "eb751d7b",
   "metadata": {},
   "outputs": [],
   "source": [
    "import enum\n",
    "from typing import Optional\n",
    "from pydantic import BaseModel\n",
    "\n",
    "\n",
    "class OrderStatus(enum.Enum):\n",
    "    PENDING = 1\n",
    "    PAID = 2\n",
    "\n",
    "\n",
    "class Order(BaseModel):\n",
    "    status: Optional[OrderStatus] = OrderStatus.PENDING\n",
    "\n"
   ]
  },
  {
   "cell_type": "code",
   "execution_count": null,
   "id": "d33cb40c",
   "metadata": {},
   "outputs": [],
   "source": [
    "import enum\n",
    "from typing import Optional\n",
    "from pydantic import BaseModel, validator\n",
    "\n",
    "\n",
    "class ValueTypeError(Exception):\n",
    "    def __init__(self, variable: str, value_type: str) -> None:\n",
    "        super().__init__(f'Value type {value_type} is not supported for {variable}')\n",
    "\n",
    "\n",
    "class OrderStatus(enum.Enum):\n",
    "    PENDING = 1\n",
    "    PAID = 2\n",
    "\n",
    "\n",
    "class Order(BaseModel):\n",
    "    status: Optional[OrderStatus] = OrderStatus.PENDING\n",
    "\n",
    "    @validator('status')\n",
    "    def status_is_valid(cls, value) -> OrderStatus:\n",
    "        if not isinstance(value, OrderStatus):\n",
    "            raise ValueTypeError(value, 'OrderStatus')\n",
    "        return value\n",
    "\n",
    "    class Config:\n",
    "        validate_assignment = True"
   ]
  },
  {
   "cell_type": "code",
   "execution_count": null,
   "id": "1e01fb78",
   "metadata": {},
   "outputs": [],
   "source": [
    "# Built-in libraries\n",
    "from typing import List, Optional\n",
    "from dataclasses import dataclass\n",
    "\n",
    "# External libraries\n",
    "from pydantic import validate_arguments\n",
    "\n",
    "\n",
    "@validate_arguments\n",
    "@dataclass\n",
    "class PredictionInstance:\n",
    "    \"\"\"Schema for prediction instances\"\"\"\n",
    "    instances: List[dict]\n",
    "    parameters: Optional[List] = None"
   ]
  },
  {
   "cell_type": "markdown",
   "id": "c0bb337d",
   "metadata": {},
   "source": [
    "- Pydantic docs: https://pydantic-docs.helpmanual.io"
   ]
  }
 ],
 "metadata": {
  "kernelspec": {
   "display_name": "Python 3 (ipykernel)",
   "language": "python",
   "name": "python3"
  },
  "language_info": {
   "codemirror_mode": {
    "name": "ipython",
    "version": 3
   },
   "file_extension": ".py",
   "mimetype": "text/x-python",
   "name": "python",
   "nbconvert_exporter": "python",
   "pygments_lexer": "ipython3",
   "version": "3.9.5"
  }
 },
 "nbformat": 4,
 "nbformat_minor": 5
}
