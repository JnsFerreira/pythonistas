{
  "nbformat": 4,
  "nbformat_minor": 0,
  "metadata": {
    "colab": {
      "name": "Copy of classes_1_desafio.ipynb",
      "provenance": [],
      "collapsed_sections": [],
      "toc_visible": true
    },
    "kernelspec": {
      "display_name": "Python 3",
      "name": "python3"
    },
    "language_info": {
      "name": "python"
    }
  },
  "cells": [
    {
      "cell_type": "markdown",
      "metadata": {
        "id": "2_q_gqbWFJYn"
      },
      "source": [
        "## Desafio Classes\n",
        "\n",
        "O projeto de validação bancária sofreu uma mudança no seu escopo, e agora o serviço precisa prever tanto os bancos homologados pela cip quanto outros bancos também.\n",
        "\n",
        "O antigo desenvolvendor do projeto está de férias e precisamos dar continuidade. Há uma parte da solução feita por ele, então, a partir disso, considere:\n",
        "\n",
        "- O código feito por ele poderá ser utilizado, mas NÃO poderá ser alterado (não sabemos os impactos disso!);\n",
        "\n",
        "- O PO nos enviou dois arquivos CSV, um contém todos os bancos disponíveis, e outro com os bancos homologados pela CIP;\n",
        "\n",
        "- O que precisamos é de um novo arquivo CSV, contendo o cabeçalho dos campos (normalizados POR FAVOR), e todos os dados possíveis dos dois arquivos, adicionando a coluna \"CIP\" que deverá conter o valor 'S' ou 'N', caso sejam ou não homologados respectivamente; \n",
        "\n",
        "- O separador dos campos no CSV deverá ser o \"ponto-e-vírgula\";\n",
        "\n",
        "- O código do banco deverá ter 3 dígitos;\n",
        "\n",
        "- O código ISPB deverá ter 8 dígitos;\n",
        "\n",
        "- O CNPJ tem 14 dígitos (e deve estar sem formatação);\n",
        "\n",
        "- O nome do banco normalizado;\n",
        "\n",
        "- Considere deixar o CSV gerado com a maior quantidade de dados possível.\n",
        "\n",
        "- Considere fazer o código da forma mais enxuta e legível possível, afinal não seremos os únicos a mexer nele;\n",
        "\n",
        "- Curiosidade: Uma solução razoável, possui menos de 45 linhas, além das já escritas.\n",
        "\n",
        "\n",
        "### Arquivos\n",
        "- https://drive.google.com/file/d/1Ljru927f-G75dyo3C_gBZUgOXBOa-i2H/view?usp=sharing\n",
        "\n",
        "- https://drive.google.com/file/d/15f1uaXkyMBnTav7juqdXK2T9igLhFbpo/view?usp=sharing\n",
        "\n",
        "\n",
        "### Referência\n",
        "\n",
        "- https://docs.python.org/3/library/csv.html\n",
        "\n"
      ]
    },
    {
      "cell_type": "code",
      "metadata": {
        "id": "-GiXbhI_oUbd",
        "cellView": "code"
      },
      "source": [
        "import csv\n",
        "\n",
        "\n",
        "class Reader:\n",
        "    __state_row = 0\n",
        "\n",
        "    def __init__(self, file_path, **kwargs):\n",
        "        self.file_path = file_path\n",
        "        self.kwargs = kwargs\n",
        "\n",
        "    def __open_file(self):\n",
        "        return open(self.file_path, 'r')\n",
        "\n",
        "    @property\n",
        "    def row(self):\n",
        "        with self.__open_file() as f:\n",
        "            reader = csv.DictReader(f, **self.kwargs)\n",
        "            current_row = 0\n",
        "\n",
        "            for row in reader:\n",
        "                \n",
        "                if current_row == self.__state_row:\n",
        "                    self.__state_row += 1\n",
        "                    yield dict(row)\n",
        "                \n",
        "                current_row += 1\n",
        "            \n",
        "            f.seek(0);\n",
        "            self.__state_row = 0\n",
        "            return None\n"
      ],
      "execution_count": null,
      "outputs": []
    }
  ]
}