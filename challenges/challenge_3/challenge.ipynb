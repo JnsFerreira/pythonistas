{
 "cells": [
  {
   "cell_type": "markdown",
   "id": "8425d14e-7439-417c-a95e-134285b26572",
   "metadata": {},
   "source": [
    "### Pandas Challenge\n",
    "\n",
    "Hi there, welcome to our first pandas challenge :)\n",
    "\n",
    "This problem is composed by 5 steps that you will solve\n",
    "\n",
    "1. Read input files\n",
    "\n",
    "2. Normalization\n",
    "\n",
    "3. Analysis\n",
    "\n",
    "4. Filter\n",
    "\n",
    "5. Export"
   ]
  },
  {
   "cell_type": "code",
   "execution_count": 2,
   "id": "2b68b5b9-db6d-4196-ae87-369bf30ceb77",
   "metadata": {},
   "outputs": [],
   "source": [
    "# Importing libraries\n",
    "import pandas as pd\n",
    "import numpy as np"
   ]
  },
  {
   "cell_type": "code",
   "execution_count": 17,
   "id": "c62e94a5-89de-48ad-9852-d8658e607d00",
   "metadata": {},
   "outputs": [],
   "source": [
    "order_path = 'data/order.parquet'\n",
    "order_detail_path = 'data/order_detail.parquet'\n",
    "sales_target_path = 'data/sales_target.parquet'"
   ]
  },
  {
   "cell_type": "markdown",
   "id": "a08e66d2-9d79-459e-b5c5-f80e72be7fb0",
   "metadata": {},
   "source": [
    "## Exercise 1 - Reading input files\n",
    "\n",
    "There are 3 parquet files containing all data to solve this challenge\n",
    "\n",
    "### What's inside?\n",
    "\n",
    "- List of Orders: This dataset contains purchase information. The information includes ID, Date of Purchase and customer details\n",
    "- Order Details: This dataset contains order ID, with the order price, quantity, profit, category and subcategory of product\n",
    " - Sales target: This dataset contains sales target amount and date for each product category\n",
    "\n",
    "\n",
    "Read all parquet files as a pandas DataFrame, in 3 different dataframes.\n",
    "\n",
    "For more details, see: https://parquet.apache.org/"
   ]
  },
  {
   "cell_type": "code",
   "execution_count": 18,
   "id": "7080ba40-5c1e-4d4c-9265-377cea790cb7",
   "metadata": {},
   "outputs": [],
   "source": [
    "# Your answer here"
   ]
  },
  {
   "cell_type": "markdown",
   "id": "6c957fc1-2ac5-4bdf-8647-8266b61881f2",
   "metadata": {},
   "source": [
    "## Exercise 2 - Normalization\n",
    "\n",
    "Normalize the following topics:\n",
    "\n",
    "- Data types\n",
    "- Column names\n",
    "- Null values"
   ]
  },
  {
   "cell_type": "code",
   "execution_count": null,
   "id": "927cab79-4a3f-4ef3-8ecb-1032a6e155b8",
   "metadata": {},
   "outputs": [],
   "source": [
    "# Your answer here"
   ]
  },
  {
   "cell_type": "markdown",
   "id": "f4399c6d-3780-44f5-a972-b83ae672d4e0",
   "metadata": {},
   "source": [
    "## Exercise 3 - Analysis\n",
    "\n",
    "Which category generates more profit by month?"
   ]
  },
  {
   "cell_type": "code",
   "execution_count": 28,
   "id": "2bf9dcc5-a04a-41c1-a569-683f67aab211",
   "metadata": {},
   "outputs": [],
   "source": [
    "# Your answer here\n"
   ]
  },
  {
   "cell_type": "markdown",
   "id": "5646a3de-44b8-4592-96c4-ba6e56eb79bc",
   "metadata": {},
   "source": [
    "## Exercise 4 - Filter\n",
    "\n",
    "Create two datasets:\n",
    "\n",
    "- Months in which the company reached the sales target\n",
    "- Months in which the company did not reach the sales target"
   ]
  },
  {
   "cell_type": "code",
   "execution_count": null,
   "id": "0c115525-c44e-4a06-9085-6d6876cac65b",
   "metadata": {},
   "outputs": [],
   "source": [
    "# Your answer here"
   ]
  },
  {
   "cell_type": "markdown",
   "id": "980a5bf6-a0e0-4e92-985c-daa4eb03e64c",
   "metadata": {},
   "source": [
    "## Exercise 5 - Export\n",
    "\n",
    "Export the datasets create before to a file. Choose the file extension of your preference (Except csv or excel).\n",
    "\n",
    "After export, try to read it again."
   ]
  },
  {
   "cell_type": "code",
   "execution_count": null,
   "id": "7c6615c6-ff65-4f05-b474-c011069d9fa9",
   "metadata": {},
   "outputs": [],
   "source": [
    "# Your answer here"
   ]
  }
 ],
 "metadata": {
  "kernelspec": {
   "display_name": "Python 3 (ipykernel)",
   "language": "python",
   "name": "python3"
  },
  "language_info": {
   "codemirror_mode": {
    "name": "ipython",
    "version": 3
   },
   "file_extension": ".py",
   "mimetype": "text/x-python",
   "name": "python",
   "nbconvert_exporter": "python",
   "pygments_lexer": "ipython3",
   "version": "3.8.10"
  }
 },
 "nbformat": 4,
 "nbformat_minor": 5
}
