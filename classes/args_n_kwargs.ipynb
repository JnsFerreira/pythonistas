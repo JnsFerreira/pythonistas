{
  "nbformat": 4,
  "nbformat_minor": 0,
  "metadata": {
    "colab": {
      "name": "args_n_kwargs",
      "provenance": [],
      "collapsed_sections": []
    },
    "kernelspec": {
      "name": "python3",
      "display_name": "Python 3"
    },
    "language_info": {
      "name": "python"
    }
  },
  "cells": [
    {
      "cell_type": "code",
      "metadata": {
        "id": "0UApgOTduJOS"
      },
      "source": [
        "def foo(x: str, y: str) -> None:\n",
        "    print(f\"X: {x}\")\n",
        "    print(f\"Y: {y}\")\n",
        "\n",
        "def bar(x: str, y: str, *args) -> None:\n",
        "    print(f\"X: {x}\")\n",
        "    print(f\"Y: {y}\")\n",
        "    print(f\"Argumentos extra como lista: {args}\")\n",
        "\n",
        "def abc(x: str, y: str, **kwargs) -> None:\n",
        "    print(f\"X: {x}\")\n",
        "    print(f\"Y: {y}\")\n",
        "    print(f\"Argumentos extra como dict: {kwargs}\")"
      ],
      "execution_count": 17,
      "outputs": []
    },
    {
      "cell_type": "code",
      "metadata": {
        "colab": {
          "base_uri": "https://localhost:8080/"
        },
        "id": "5IHSi54cupaz",
        "outputId": "c9b00824-b442-48d1-b0bb-966f966833bb"
      },
      "source": [
        "# Usando todos os parametros posicionais\n",
        "foo(10, 20)"
      ],
      "execution_count": 12,
      "outputs": [
        {
          "output_type": "stream",
          "text": [
            "X: 10\n",
            "Y: 20\n"
          ],
          "name": "stdout"
        }
      ]
    },
    {
      "cell_type": "code",
      "metadata": {
        "colab": {
          "base_uri": "https://localhost:8080/",
          "height": 205
        },
        "id": "6gnwlkVLu2-8",
        "outputId": "7a378095-dea5-4509-a681-bb8c0b7473b8"
      },
      "source": [
        "# Passando mais parametros que especificados\n",
        "# Gera um erro\n",
        "foo(10, 20, 30)"
      ],
      "execution_count": 13,
      "outputs": [
        {
          "output_type": "error",
          "ename": "TypeError",
          "evalue": "ignored",
          "traceback": [
            "\u001b[0;31m---------------------------------------------------------------------------\u001b[0m",
            "\u001b[0;31mTypeError\u001b[0m                                 Traceback (most recent call last)",
            "\u001b[0;32m<ipython-input-13-2b19da09c695>\u001b[0m in \u001b[0;36m<module>\u001b[0;34m()\u001b[0m\n\u001b[1;32m      1\u001b[0m \u001b[0;31m# Passando mais parametros que especificados\u001b[0m\u001b[0;34m\u001b[0m\u001b[0;34m\u001b[0m\u001b[0;34m\u001b[0m\u001b[0m\n\u001b[1;32m      2\u001b[0m \u001b[0;31m# Gera um erro\u001b[0m\u001b[0;34m\u001b[0m\u001b[0;34m\u001b[0m\u001b[0;34m\u001b[0m\u001b[0m\n\u001b[0;32m----> 3\u001b[0;31m \u001b[0mfoo\u001b[0m\u001b[0;34m(\u001b[0m\u001b[0;36m10\u001b[0m\u001b[0;34m,\u001b[0m \u001b[0;36m20\u001b[0m\u001b[0;34m,\u001b[0m \u001b[0;36m30\u001b[0m\u001b[0;34m)\u001b[0m\u001b[0;34m\u001b[0m\u001b[0;34m\u001b[0m\u001b[0m\n\u001b[0m",
            "\u001b[0;31mTypeError\u001b[0m: foo() takes 2 positional arguments but 3 were given"
          ]
        }
      ]
    },
    {
      "cell_type": "code",
      "metadata": {
        "colab": {
          "base_uri": "https://localhost:8080/"
        },
        "id": "_g25PLnlvEkk",
        "outputId": "1fa4b349-59f2-41dd-d864-6cac6193e399"
      },
      "source": [
        "# Usando todos os parametros posicionais\n",
        "bar(10, 20)"
      ],
      "execution_count": 14,
      "outputs": [
        {
          "output_type": "stream",
          "text": [
            "X: 10\n",
            "Y: 20\n",
            "Argumentos extra como list: ()\n"
          ],
          "name": "stdout"
        }
      ]
    },
    {
      "cell_type": "code",
      "metadata": {
        "colab": {
          "base_uri": "https://localhost:8080/"
        },
        "id": "jU1G5bJUvOkR",
        "outputId": "ba76f401-4ab0-4c91-b8ee-7bdbbff249d2"
      },
      "source": [
        "# Argumentos extras são recebidos como uma lista\n",
        "bar(10, 20, 30, 40, 50)"
      ],
      "execution_count": 15,
      "outputs": [
        {
          "output_type": "stream",
          "text": [
            "X: 10\n",
            "Y: 20\n",
            "Argumentos extra como list: (30, 40, 50)\n"
          ],
          "name": "stdout"
        }
      ]
    },
    {
      "cell_type": "code",
      "metadata": {
        "colab": {
          "base_uri": "https://localhost:8080/"
        },
        "id": "AMsDGUwNvai-",
        "outputId": "39e2b908-f2c6-40e0-9d60-676035f0af5f"
      },
      "source": [
        "# Argumentos extras são recebidos como um dict\n",
        "abc(w=0, x=10, y=20, z=30)"
      ],
      "execution_count": 19,
      "outputs": [
        {
          "output_type": "stream",
          "text": [
            "X: 10\n",
            "Y: 20\n",
            "Argumentos extra como dict: {'w': 0, 'z': 30}\n"
          ],
          "name": "stdout"
        }
      ]
    }
  ]
}