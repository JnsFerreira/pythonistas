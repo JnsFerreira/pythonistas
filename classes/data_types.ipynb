{
  "nbformat": 4,
  "nbformat_minor": 0,
  "metadata": {
    "colab": {
      "name": "aula2.ipynb",
      "provenance": []
    },
    "kernelspec": {
      "name": "python3",
      "display_name": "Python 3"
    }
  },
  "cells": [
    {
      "cell_type": "markdown",
      "metadata": {
        "id": "GhapvIGN_oaT"
      },
      "source": [
        "#Python Types\n",
        "\n",
        "### Text\n",
        "\n",
        "- String\n",
        "\n",
        "### Numeric\n",
        "\n",
        "- Integer\n",
        "- Float\n",
        "- Complex\n",
        "\n",
        "### Sequence\n",
        "\n",
        "- List\n",
        "- Tuple\n",
        "- range\n",
        "\n",
        "### Mapping\n",
        "\n",
        "-  dict\n",
        "\n",
        "### Set\n",
        "\n",
        "- set"
      ]
    },
    {
      "cell_type": "code",
      "metadata": {
        "id": "atD1073X_gb0"
      },
      "source": [
        "# String\n",
        "my_string = \"Hello World\"\n",
        "\n",
        "# Integer\n",
        "my_int = 10\n",
        "\n",
        "# Float\n",
        "my_float = 10.3\n",
        "\n",
        "# Complex\n",
        "my_complex = 1j\n",
        "\n",
        "# Lists\n",
        "my_list = [\"apple\", \"banana\", \"cherry\"]\n",
        "\n",
        "# Tuple\n",
        "my_tuple = (\"apple\", \"banana\", \"cherry\")\n",
        "\n",
        "# Range\n",
        "my_range = range(6)\n",
        "\n",
        "# Dict\n",
        "my_dict = {\"name\" : \"John\", \"age\" : 36}\n",
        "\n",
        "# Set\n",
        "my_set = {\"apple\", \"banana\", \"cherry\"}\n",
        "\n",
        "# Boolean\n",
        "my_bool = True"
      ],
      "execution_count": null,
      "outputs": []
    },
    {
      "cell_type": "code",
      "metadata": {
        "colab": {
          "base_uri": "https://localhost:8080/"
        },
        "id": "F2_LO8LKBXA6",
        "outputId": "bb6bea3f-f5b5-4b71-eed4-dc0d1b2b58ce"
      },
      "source": [
        "# Checando os tipos das variáveis\n",
        "\n",
        "print(f\"O valor {my_string} é um {type(my_string)}\")\n",
        "print(f\"O valor {my_int} é um {type(my_int)}\")\n",
        "print(f\"O valor {my_float} é um {type(my_float)}\")\n",
        "print(f\"O valor {my_complex} é um {type(my_complex)}\")\n",
        "print(f\"O valor {my_list} é um {type(my_list)}\")\n",
        "print(f\"O valor {my_tuple} é um {type(my_tuple)}\")\n",
        "print(f\"O valor {my_range} é um {type(my_range)}\")\n",
        "print(f\"O valor {my_dict} é um {type(my_dict)}\")\n",
        "print(f\"O valor {my_set} é um {type(my_set)}\")\n",
        "print(f\"O valor {my_bool} é um {type(my_bool)}\")"
      ],
      "execution_count": null,
      "outputs": [
        {
          "output_type": "stream",
          "text": [
            "O valor Hello World é um <class 'str'>\n",
            "O valor 10 é um <class 'int'>\n",
            "O valor 10.3 é um <class 'float'>\n",
            "O valor 1j é um <class 'complex'>\n",
            "O valor ['apple', 'banana', 'cherry'] é um <class 'list'>\n",
            "O valor ('apple', 'banana', 'cherry') é um <class 'tuple'>\n",
            "O valor range(0, 6) é um <class 'range'>\n",
            "O valor {'name': 'John', 'age': 36} é um <class 'dict'>\n",
            "O valor {'apple', 'cherry', 'banana'} é um <class 'set'>\n",
            "O valor True é um <class 'bool'>\n"
          ],
          "name": "stdout"
        }
      ]
    },
    {
      "cell_type": "code",
      "metadata": {
        "colab": {
          "base_uri": "https://localhost:8080/"
        },
        "id": "AQz-FEpRJzxV",
        "outputId": "3cc1382b-a734-48b3-a5e9-d8c35b487f6b"
      },
      "source": [
        "if isinstance(my_string, int):\n",
        "    print(\"Formatar como string\")\n",
        "else:\n",
        "    print(\"Formatar como x\")"
      ],
      "execution_count": null,
      "outputs": [
        {
          "output_type": "stream",
          "text": [
            "Formatar como x\n"
          ],
          "name": "stdout"
        }
      ]
    },
    {
      "cell_type": "code",
      "metadata": {
        "colab": {
          "base_uri": "https://localhost:8080/"
        },
        "id": "gZ0LNttuB1fD",
        "outputId": "732b62a1-aafe-4f8c-c21b-3f961d03b24d"
      },
      "source": [
        "# Mudando o tipo da variável\n",
        "# int my_var = 10;\n",
        "my_var = 10\n",
        "\n",
        "print(f\"Valor atual: {my_var}\\nTipo Atual:{type(my_var)}\")\n",
        "\n",
        "print(\"\\nMudando o tipo da variavel ...\\n\")\n",
        "my_var = \"now is a string\"\n",
        "\n",
        "print(f\"Valor atual: {my_var}\\nTipo Atual:{type(my_var)}\")"
      ],
      "execution_count": null,
      "outputs": [
        {
          "output_type": "stream",
          "text": [
            "Valor atual: 10\n",
            "Tipo Atual:<class 'int'>\n",
            "\n",
            "Mudando o tipo da variavel ...\n",
            "\n",
            "Valor atual: now is a string\n",
            "Tipo Atual:<class 'str'>\n"
          ],
          "name": "stdout"
        }
      ]
    },
    {
      "cell_type": "code",
      "metadata": {
        "colab": {
          "base_uri": "https://localhost:8080/"
        },
        "id": "SVZxy7bLCvzS",
        "outputId": "b9e48d1a-1bd9-4271-99e0-0fe36d101410"
      },
      "source": [
        "# Métodos\n",
        "print(dir(my_var))"
      ],
      "execution_count": null,
      "outputs": [
        {
          "output_type": "stream",
          "text": [
            "['__add__', '__class__', '__contains__', '__delattr__', '__dir__', '__doc__', '__eq__', '__format__', '__ge__', '__getattribute__', '__getitem__', '__getnewargs__', '__gt__', '__hash__', '__init__', '__init_subclass__', '__iter__', '__le__', '__len__', '__lt__', '__mod__', '__mul__', '__ne__', '__new__', '__reduce__', '__reduce_ex__', '__repr__', '__rmod__', '__rmul__', '__setattr__', '__sizeof__', '__str__', '__subclasshook__', 'capitalize', 'casefold', 'center', 'count', 'encode', 'endswith', 'expandtabs', 'find', 'format', 'format_map', 'index', 'isalnum', 'isalpha', 'isascii', 'isdecimal', 'isdigit', 'isidentifier', 'islower', 'isnumeric', 'isprintable', 'isspace', 'istitle', 'isupper', 'join', 'ljust', 'lower', 'lstrip', 'maketrans', 'partition', 'replace', 'rfind', 'rindex', 'rjust', 'rpartition', 'rsplit', 'rstrip', 'split', 'splitlines', 'startswith', 'strip', 'swapcase', 'title', 'translate', 'upper', 'zfill']\n"
          ],
          "name": "stdout"
        }
      ]
    },
    {
      "cell_type": "code",
      "metadata": {
        "colab": {
          "base_uri": "https://localhost:8080/",
          "height": 35
        },
        "id": "T72ymCAKLYKa",
        "outputId": "7aa0acd1-deed-4947-9691-c2eed5b262ac"
      },
      "source": [
        "my_var.lower()"
      ],
      "execution_count": null,
      "outputs": [
        {
          "output_type": "execute_result",
          "data": {
            "application/vnd.google.colaboratory.intrinsic+json": {
              "type": "string"
            },
            "text/plain": [
              "'now is a string'"
            ]
          },
          "metadata": {
            "tags": []
          },
          "execution_count": 40
        }
      ]
    },
    {
      "cell_type": "code",
      "metadata": {
        "colab": {
          "base_uri": "https://localhost:8080/"
        },
        "id": "L_BrJM6hEp0S",
        "outputId": "e90c8f03-0a13-4628-fd0d-5be3331e7340"
      },
      "source": [
        "a = int(1) # 1\n",
        "b = int(2.8) # 2\n",
        "c = int(round(2.8)) # 3\n",
        "d = int(\"4\") # 4\n",
        "\n",
        "print(f\"a={a}\")\n",
        "print(f\"b={b}\")\n",
        "print(f\"c={c}\")\n",
        "print(f\"d={d}\")"
      ],
      "execution_count": null,
      "outputs": [
        {
          "output_type": "stream",
          "text": [
            "a=1\n",
            "b=2\n",
            "c=3\n",
            "d=4\n"
          ],
          "name": "stdout"
        }
      ]
    },
    {
      "cell_type": "code",
      "metadata": {
        "colab": {
          "base_uri": "https://localhost:8080/"
        },
        "id": "zRN-dhEFFO_Q",
        "outputId": "36bba29f-4005-41ae-c3c5-ffc4f83b7103"
      },
      "source": [
        "x = float(1)     # 1.0\n",
        "y = float(2.8)   # 2.8\n",
        "z = float(\"3\")   # 3.0\n",
        "w = float(\"4.2\") # 4.2\n",
        "\n",
        "print(f\"x={x}\")\n",
        "print(f\"y={y}\")\n",
        "print(f\"z={z}\")\n",
        "print(f\"w={w}\")"
      ],
      "execution_count": null,
      "outputs": [
        {
          "output_type": "stream",
          "text": [
            "x=1.0\n",
            "y=2.8\n",
            "z=3.0\n",
            "w=4.2\n"
          ],
          "name": "stdout"
        }
      ]
    },
    {
      "cell_type": "code",
      "metadata": {
        "colab": {
          "base_uri": "https://localhost:8080/"
        },
        "id": "-F6GSXyFFPfl",
        "outputId": "1dc66f03-e0d7-4498-8be9-bdde026ff8be"
      },
      "source": [
        "x = str(\"s1\") # 's1'\n",
        "y = str(2)     # '2'\n",
        "z = str(3.0)   # '3.0' \n",
        "\n",
        "print(f\"x='{x}'\")\n",
        "print(f\"y='{y}'\")\n",
        "print(f\"z='{z}'\")"
      ],
      "execution_count": null,
      "outputs": [
        {
          "output_type": "stream",
          "text": [
            "x='s1'\n",
            "y='2'\n",
            "z='3.0'\n"
          ],
          "name": "stdout"
        }
      ]
    },
    {
      "cell_type": "markdown",
      "metadata": {
        "id": "L1BJUBhiD-6G"
      },
      "source": [
        "# Python Conditions and If statements\n",
        "\n",
        "- if\n",
        "- elif\n",
        "- else\n",
        "\n",
        "\n",
        "\n",
        " - Equals: a == b\n",
        " - Not Equals: a != b\n",
        " - Less than: a < b\n",
        " - Less than or equal to: a <= b\n",
        " - Greater than: a > b\n",
        " - Greater than or equal to: a >= b\n"
      ]
    },
    {
      "cell_type": "code",
      "metadata": {
        "colab": {
          "base_uri": "https://localhost:8080/"
        },
        "id": "vtIVZx0JDHOH",
        "outputId": "9df83a10-16b4-4db4-b3a3-06da230c1fc5"
      },
      "source": [
        "# if\n",
        "a = 33\n",
        "b = 200\n",
        "if b > a:\n",
        "    print(\"b is greater than a\")"
      ],
      "execution_count": null,
      "outputs": [
        {
          "output_type": "stream",
          "text": [
            "b is greater than a\n"
          ],
          "name": "stdout"
        }
      ]
    },
    {
      "cell_type": "code",
      "metadata": {
        "colab": {
          "base_uri": "https://localhost:8080/"
        },
        "id": "a7vV29ZmESAY",
        "outputId": "392c6be3-9afe-4faf-9b7d-bf5c021ac60d"
      },
      "source": [
        "# If statement, without indentation (will raise an error):\n",
        "a = 33\n",
        "b = 200\n",
        "if b > a:\n",
        "  print(\"b is greater than a\") # you will get an error"
      ],
      "execution_count": null,
      "outputs": [
        {
          "output_type": "stream",
          "text": [
            "b is greater than a\n"
          ],
          "name": "stdout"
        }
      ]
    },
    {
      "cell_type": "code",
      "metadata": {
        "colab": {
          "base_uri": "https://localhost:8080/"
        },
        "id": "7luSOEkZGwmQ",
        "outputId": "6fe730b0-d825-4fd9-a0f7-41e81b7b7849"
      },
      "source": [
        "# elif\n",
        "a = 33\n",
        "b = 33\n",
        "\n",
        "if b > a:\n",
        "  print(\"b is greater than a\")\n",
        "elif a == b:\n",
        "  print(\"a and b are equal\")"
      ],
      "execution_count": null,
      "outputs": [
        {
          "output_type": "stream",
          "text": [
            "a and b are equal\n"
          ],
          "name": "stdout"
        }
      ]
    },
    {
      "cell_type": "code",
      "metadata": {
        "colab": {
          "base_uri": "https://localhost:8080/"
        },
        "id": "dvJbxmmmG8HC",
        "outputId": "5511a4b9-fa20-4846-ffc4-532e34793bd0"
      },
      "source": [
        "# else\n",
        "\n",
        "a = 200\n",
        "b = 33\n",
        "if b > a:\n",
        "  print(\"b is greater than a\")\n",
        "elif a == b:\n",
        "  print(\"a and b are equal\")\n",
        "else:\n",
        "  print(\"a is greater than b\")"
      ],
      "execution_count": null,
      "outputs": [
        {
          "output_type": "stream",
          "text": [
            "a is greater than b\n"
          ],
          "name": "stdout"
        }
      ]
    },
    {
      "cell_type": "code",
      "metadata": {
        "colab": {
          "base_uri": "https://localhost:8080/"
        },
        "id": "MrjHaOnwG-4P",
        "outputId": "e1c01c9c-1f3a-47fb-8f33-b9b319436952"
      },
      "source": [
        "# Short way\n",
        "if a > b: print(\"a is greater than b\")"
      ],
      "execution_count": null,
      "outputs": [
        {
          "output_type": "stream",
          "text": [
            "a is greater than b\n"
          ],
          "name": "stdout"
        }
      ]
    },
    {
      "cell_type": "code",
      "metadata": {
        "colab": {
          "base_uri": "https://localhost:8080/"
        },
        "id": "yRmQUJ_AHFHW",
        "outputId": "46634bb4-575e-4214-aab3-8c3ba5099929"
      },
      "source": [
        "# Short way\n",
        "a = 2\n",
        "b = 330\n",
        "print(\"A\") if a > b else print(\"B\")"
      ],
      "execution_count": null,
      "outputs": [
        {
          "output_type": "stream",
          "text": [
            "B\n"
          ],
          "name": "stdout"
        }
      ]
    },
    {
      "cell_type": "code",
      "metadata": {
        "colab": {
          "base_uri": "https://localhost:8080/"
        },
        "id": "rJCYp5icHH4G",
        "outputId": "4afbab7b-71e4-4474-f167-5b9acb59b6b4"
      },
      "source": [
        "# Aninhado\n",
        "x = 41\n",
        "\n",
        "if x > 10:\n",
        "  print(\"Above ten,\")\n",
        "  if x > 20:\n",
        "    print(\"and also above 20!\")\n",
        "  else:\n",
        "    print(\"but not above 20.\")\n",
        "\n",
        "else:\n",
        "    # your code here"
      ],
      "execution_count": null,
      "outputs": [
        {
          "output_type": "stream",
          "text": [
            "Above ten,\n",
            "and also above 20!\n"
          ],
          "name": "stdout"
        }
      ]
    },
    {
      "cell_type": "code",
      "metadata": {
        "id": "HL-eRgIROQeI"
      },
      "source": [
        "my_list2 = ['banana', 'laranja', 'maca']"
      ],
      "execution_count": null,
      "outputs": []
    },
    {
      "cell_type": "code",
      "metadata": {
        "colab": {
          "base_uri": "https://localhost:8080/"
        },
        "id": "3cRxnB5rOX3g",
        "outputId": "1f311ed6-0c72-4f20-af39-7cbb669832cd"
      },
      "source": [
        "if 'banana' in my_list:\n",
        "    print(\"tem banana\")\n",
        "else:\n",
        "    print(\"Não tem banana\")"
      ],
      "execution_count": null,
      "outputs": [
        {
          "output_type": "stream",
          "text": [
            "tem banana\n"
          ],
          "name": "stdout"
        }
      ]
    },
    {
      "cell_type": "code",
      "metadata": {
        "colab": {
          "base_uri": "https://localhost:8080/"
        },
        "id": "EtAaJ5rWOeI8",
        "outputId": "1d5aea11-757e-45a0-fb0a-8069c2622090"
      },
      "source": [
        "if 'banana' not in my_list:\n",
        "    print(\"Não tem banana\")\n",
        "else:\n",
        "    print(\"Tem banana\")"
      ],
      "execution_count": null,
      "outputs": [
        {
          "output_type": "stream",
          "text": [
            "Tem banana\n"
          ],
          "name": "stdout"
        }
      ]
    }
  ]
}