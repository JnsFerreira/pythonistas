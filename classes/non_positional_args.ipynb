{
  "nbformat": 4,
  "nbformat_minor": 0,
  "metadata": {
    "colab": {
      "name": "Untitled5.ipynb",
      "provenance": []
    },
    "kernelspec": {
      "name": "python3",
      "display_name": "Python 3"
    },
    "language_info": {
      "name": "python"
    }
  },
  "cells": [
    {
      "cell_type": "markdown",
      "metadata": {
        "id": "l7HbJq-4WyNk"
      },
      "source": [
        "# Argumentos posicionais e não posicionais (*args e **kwargs)"
      ]
    },
    {
      "cell_type": "markdown",
      "metadata": {
        "id": "96KBFeZ9Wutb"
      },
      "source": [
        "### Utilizando o args e recebendo parametros não posicionais como tupla"
      ]
    },
    {
      "cell_type": "code",
      "metadata": {
        "id": "E16CTWvnQ0SS"
      },
      "source": [
        "def non_positional_args(pos: str, *args):\n",
        "    print(f\"Positional: {pos}\")\n",
        "    print(f\"Args: {args}\")"
      ],
      "execution_count": 7,
      "outputs": []
    },
    {
      "cell_type": "code",
      "metadata": {
        "colab": {
          "base_uri": "https://localhost:8080/"
        },
        "id": "kegpkFYzREwL",
        "outputId": "c26b9a7b-fc7d-41f3-b68e-d7051e48a010"
      },
      "source": [
        "non_positional_args('argumento posicional', 'some value', 'other_value')"
      ],
      "execution_count": 25,
      "outputs": [
        {
          "output_type": "stream",
          "text": [
            "Positional: texto\n",
            "Args: ('some value', 'other_value')\n"
          ],
          "name": "stdout"
        }
      ]
    },
    {
      "cell_type": "markdown",
      "metadata": {
        "id": "MsvmURNuWwiZ"
      },
      "source": [
        "### Utilizando o kwargs e recebendo parametros não posicionais como dicionário\n",
        "\n"
      ]
    },
    {
      "cell_type": "code",
      "metadata": {
        "id": "Zxj6cAx2RO32"
      },
      "source": [
        "def non_positional_key_args(pos: str, **kwargs):\n",
        "    print(f\"Positional: {pos}\")\n",
        "    print(f\"kwargs: {kwargs}\")"
      ],
      "execution_count": 22,
      "outputs": []
    },
    {
      "cell_type": "code",
      "metadata": {
        "colab": {
          "base_uri": "https://localhost:8080/"
        },
        "id": "0dqjWVvKR9sP",
        "outputId": "5ce459ef-f745-4fac-b375-674051909620"
      },
      "source": [
        "non_positional_key_args(pos='argumento posicional', key='value', other_key='other_value')"
      ],
      "execution_count": 20,
      "outputs": [
        {
          "output_type": "stream",
          "text": [
            "Positional: Este é o argumento posicional\n",
            "kwargs: {'some': 'value', 'other': 'value'}\n"
          ],
          "name": "stdout"
        }
      ]
    }
  ]
}