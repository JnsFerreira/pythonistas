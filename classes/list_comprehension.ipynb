{
  "nbformat": 4,
  "nbformat_minor": 0,
  "metadata": {
    "colab": {
      "name": "List Comprehension",
      "provenance": [],
      "collapsed_sections": []
    },
    "kernelspec": {
      "name": "python3",
      "display_name": "Python 3"
    },
    "language_info": {
      "name": "python"
    }
  },
  "cells": [
    {
      "cell_type": "markdown",
      "metadata": {
        "id": "yQre4u7gVOOE"
      },
      "source": [
        "list comprehension"
      ]
    },
    {
      "cell_type": "code",
      "metadata": {
        "colab": {
          "base_uri": "https://localhost:8080/"
        },
        "id": "E6d4ufTaVRhi",
        "outputId": "416076b3-91a1-46c5-f5a1-70a83443bf25"
      },
      "source": [
        "# list = []\n",
        "# for n in range(100):\n",
        "#   if not n % 2:\n",
        "#     list.append(n)\n",
        "\n",
        "list_even_numbers = [n \n",
        "                     for n in range(10) \n",
        "                     if not n % 2\n",
        "                     ]\n",
        "print(list_even_numbers)\n",
        "\n",
        "list_even_numbers_squared = [n**2 for n in list_even_numbers]\n",
        "print(list_even_numbers_squared)\n",
        "\n",
        "def square(n):\n",
        "  return n**2\n",
        "\n",
        "print(list(map(square, list_even_numbers)))\n",
        "\n",
        "print(list(map(lambda n: n**2, list_even_numbers)))\n",
        "\n"
      ],
      "execution_count": null,
      "outputs": [
        {
          "output_type": "stream",
          "text": [
            "[0, 2, 4, 6, 8]\n",
            "[0, 4, 16, 36, 64]\n",
            "[0, 4, 16, 36, 64]\n",
            "[0, 4, 16, 36, 64]\n"
          ],
          "name": "stdout"
        }
      ]
    }
  ]
}