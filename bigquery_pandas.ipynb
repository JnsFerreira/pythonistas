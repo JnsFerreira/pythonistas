{
 "cells": [
  {
   "cell_type": "code",
   "execution_count": 85,
   "metadata": {},
   "outputs": [
    {
     "name": "stdout",
     "output_type": "stream",
     "text": [
      "ya29.a0ARrdaM-dlpCTLV2icVPvND2jVPf2iLin6KElh2o8PPyqiVzkziofw_nLANnbC92byJycv9V4FtH7AUYt9wGRUKDv56vbRtlLmuWWHG3xMCZz407PqB0iYOejKr-RCXj99wRkdN1PF0Ytd29GVKbEdPYMg5-yVKpsZCTe2jY\n"
     ]
    }
   ],
   "source": [
    "!gcloud auth print-access-token"
   ]
  },
  {
   "cell_type": "code",
   "execution_count": 84,
   "metadata": {},
   "outputs": [
    {
     "name": "stdout",
     "output_type": "stream",
     "text": [
      "ya29.a0ARrdaM_NzD0WwT9Qr8jBLEBtXdSGJe9nnRKFLmWXGpDfE5UFvH7VHxdx8Oq31U2VUXe6_toUB1HI2BBwlJcxbgAwTs-7XIiUn6M3RfbVSKvIcf4iq7UExtL8CQIllohssjM3QVeWb_bag9or5mOAphFZVhEjag4_ayFl7OI\n"
     ]
    },
    {
     "data": {
      "text/plain": [
       "0"
      ]
     },
     "execution_count": 84,
     "metadata": {},
     "output_type": "execute_result"
    }
   ],
   "source": [
    "# Modo manual\n",
    "import os\n",
    "\n",
    "os.system('gcloud auth print-access-token')"
   ]
  },
  {
   "cell_type": "code",
   "execution_count": 79,
   "metadata": {},
   "outputs": [],
   "source": [
    "# Modo 'automático'\n",
    "def get_access_token():\n",
    "    import subprocess\n",
    "\n",
    "    cmd=\"gcloud auth print-access-token\"\n",
    "    result = subprocess.check_output(cmd, shell=True)\n",
    "    \n",
    "    return result.decode().replace('\\n', '')"
   ]
  },
  {
   "cell_type": "code",
   "execution_count": 90,
   "metadata": {
    "id": "o4DtgsQ6GdvL"
   },
   "outputs": [],
   "source": [
    "# Criar credencial de acesso\n",
    "import google.oauth2.credentials\n",
    "\n",
    "credentials = google.oauth2.credentials.Credentials('ya29.a0ARrdaM-dlpCTLV2icVPvND2jVPf2iLin6KElh2o8PPyqiVzkziofw_nLANnbC92byJycv9V4FtH7AUYt9wGRUKDv56vbRtlLmuWWHG3xMCZz407PqB0iYOejKr-RCXj99wRkdN1PF0Ytd29GVKbEdPYMg5-yVKpsZCTe2jY')"
   ]
  },
  {
   "cell_type": "code",
   "execution_count": 91,
   "metadata": {
    "id": "SxC9MChiHCnJ"
   },
   "outputs": [],
   "source": [
    "# Instanciar cliente do BigQuery\n",
    "from google.cloud import bigquery\n",
    "\n",
    "client = bigquery.Client(credentials=credentials, project='white-script-238515')"
   ]
  },
  {
   "cell_type": "code",
   "execution_count": 102,
   "metadata": {
    "id": "vIkEzXzyHtD_"
   },
   "outputs": [],
   "source": [
    "# Realizar a query.\n",
    "query = '''\n",
    "    SELECT * FROM `white-script-238515.sandbox.titanic` \n",
    "    LIMIT 10\n",
    "'''\n",
    "\n",
    "query_job = client.query(query)  # API request\n",
    "dataframe = query_job.to_dataframe()"
   ]
  },
  {
   "cell_type": "code",
   "execution_count": 103,
   "metadata": {
    "colab": {
     "base_uri": "https://localhost:8080/",
     "height": 419
    },
    "id": "IA7wUDtSJ0Jk",
    "outputId": "68787de0-58b7-47f8-ba93-5210cd959d96"
   },
   "outputs": [
    {
     "data": {
      "text/html": [
       "<div>\n",
       "<style scoped>\n",
       "    .dataframe tbody tr th:only-of-type {\n",
       "        vertical-align: middle;\n",
       "    }\n",
       "\n",
       "    .dataframe tbody tr th {\n",
       "        vertical-align: top;\n",
       "    }\n",
       "\n",
       "    .dataframe thead th {\n",
       "        text-align: right;\n",
       "    }\n",
       "</style>\n",
       "<table border=\"1\" class=\"dataframe\">\n",
       "  <thead>\n",
       "    <tr style=\"text-align: right;\">\n",
       "      <th></th>\n",
       "      <th>passagender_id</th>\n",
       "      <th>class</th>\n",
       "      <th>name</th>\n",
       "      <th>sex</th>\n",
       "      <th>age</th>\n",
       "      <th>sibsp</th>\n",
       "      <th>parch</th>\n",
       "      <th>ticket</th>\n",
       "      <th>fare</th>\n",
       "      <th>cabin</th>\n",
       "      <th>embarked</th>\n",
       "    </tr>\n",
       "  </thead>\n",
       "  <tbody>\n",
       "    <tr>\n",
       "      <th>0</th>\n",
       "      <td>1158</td>\n",
       "      <td>1</td>\n",
       "      <td>Chisholm, Mr. Roderick Robert Crispin</td>\n",
       "      <td>male</td>\n",
       "      <td>30.27</td>\n",
       "      <td>0</td>\n",
       "      <td>0</td>\n",
       "      <td>112051</td>\n",
       "      <td>0.0</td>\n",
       "      <td>unknown</td>\n",
       "      <td>S</td>\n",
       "    </tr>\n",
       "    <tr>\n",
       "      <th>1</th>\n",
       "      <td>1264</td>\n",
       "      <td>1</td>\n",
       "      <td>Ismay, Mr. Joseph Bruce</td>\n",
       "      <td>male</td>\n",
       "      <td>49.00</td>\n",
       "      <td>0</td>\n",
       "      <td>0</td>\n",
       "      <td>112058</td>\n",
       "      <td>0.0</td>\n",
       "      <td>B52 B54 B56</td>\n",
       "      <td>S</td>\n",
       "    </tr>\n",
       "    <tr>\n",
       "      <th>2</th>\n",
       "      <td>903</td>\n",
       "      <td>1</td>\n",
       "      <td>Jones, Mr. Charles Cresson</td>\n",
       "      <td>male</td>\n",
       "      <td>46.00</td>\n",
       "      <td>0</td>\n",
       "      <td>0</td>\n",
       "      <td>694</td>\n",
       "      <td>26.0</td>\n",
       "      <td>unknown</td>\n",
       "      <td>S</td>\n",
       "    </tr>\n",
       "    <tr>\n",
       "      <th>3</th>\n",
       "      <td>974</td>\n",
       "      <td>1</td>\n",
       "      <td>Case, Mr. Howard Brown</td>\n",
       "      <td>male</td>\n",
       "      <td>49.00</td>\n",
       "      <td>0</td>\n",
       "      <td>0</td>\n",
       "      <td>19924</td>\n",
       "      <td>26.0</td>\n",
       "      <td>unknown</td>\n",
       "      <td>S</td>\n",
       "    </tr>\n",
       "    <tr>\n",
       "      <th>4</th>\n",
       "      <td>986</td>\n",
       "      <td>1</td>\n",
       "      <td>Birnbaum, Mr. Jakob</td>\n",
       "      <td>male</td>\n",
       "      <td>25.00</td>\n",
       "      <td>0</td>\n",
       "      <td>0</td>\n",
       "      <td>13905</td>\n",
       "      <td>26.0</td>\n",
       "      <td>unknown</td>\n",
       "      <td>C</td>\n",
       "    </tr>\n",
       "    <tr>\n",
       "      <th>5</th>\n",
       "      <td>1083</td>\n",
       "      <td>1</td>\n",
       "      <td>Salomon, Mr. Abraham L</td>\n",
       "      <td>male</td>\n",
       "      <td>30.27</td>\n",
       "      <td>0</td>\n",
       "      <td>0</td>\n",
       "      <td>111163</td>\n",
       "      <td>26.0</td>\n",
       "      <td>unknown</td>\n",
       "      <td>S</td>\n",
       "    </tr>\n",
       "    <tr>\n",
       "      <th>6</th>\n",
       "      <td>1227</td>\n",
       "      <td>1</td>\n",
       "      <td>Maguire, Mr. John Edward</td>\n",
       "      <td>male</td>\n",
       "      <td>30.00</td>\n",
       "      <td>0</td>\n",
       "      <td>0</td>\n",
       "      <td>110469</td>\n",
       "      <td>26.0</td>\n",
       "      <td>C106</td>\n",
       "      <td>S</td>\n",
       "    </tr>\n",
       "    <tr>\n",
       "      <th>7</th>\n",
       "      <td>1247</td>\n",
       "      <td>1</td>\n",
       "      <td>Julian, Mr. Henry Forbes</td>\n",
       "      <td>male</td>\n",
       "      <td>50.00</td>\n",
       "      <td>0</td>\n",
       "      <td>0</td>\n",
       "      <td>113044</td>\n",
       "      <td>26.0</td>\n",
       "      <td>E60</td>\n",
       "      <td>S</td>\n",
       "    </tr>\n",
       "    <tr>\n",
       "      <th>8</th>\n",
       "      <td>1270</td>\n",
       "      <td>1</td>\n",
       "      <td>Hipkins, Mr. William Edward</td>\n",
       "      <td>male</td>\n",
       "      <td>55.00</td>\n",
       "      <td>0</td>\n",
       "      <td>0</td>\n",
       "      <td>680</td>\n",
       "      <td>50.0</td>\n",
       "      <td>C39</td>\n",
       "      <td>S</td>\n",
       "    </tr>\n",
       "    <tr>\n",
       "      <th>9</th>\n",
       "      <td>984</td>\n",
       "      <td>1</td>\n",
       "      <td>Davidson, Mrs. Thornton (Orian Hays)</td>\n",
       "      <td>female</td>\n",
       "      <td>27.00</td>\n",
       "      <td>1</td>\n",
       "      <td>2</td>\n",
       "      <td>F.C. 12750</td>\n",
       "      <td>52.0</td>\n",
       "      <td>B71</td>\n",
       "      <td>S</td>\n",
       "    </tr>\n",
       "  </tbody>\n",
       "</table>\n",
       "</div>"
      ],
      "text/plain": [
       "   passagender_id  class                                   name     sex  \\\n",
       "0            1158      1  Chisholm, Mr. Roderick Robert Crispin    male   \n",
       "1            1264      1                Ismay, Mr. Joseph Bruce    male   \n",
       "2             903      1             Jones, Mr. Charles Cresson    male   \n",
       "3             974      1                 Case, Mr. Howard Brown    male   \n",
       "4             986      1                    Birnbaum, Mr. Jakob    male   \n",
       "5            1083      1                 Salomon, Mr. Abraham L    male   \n",
       "6            1227      1               Maguire, Mr. John Edward    male   \n",
       "7            1247      1               Julian, Mr. Henry Forbes    male   \n",
       "8            1270      1            Hipkins, Mr. William Edward    male   \n",
       "9             984      1   Davidson, Mrs. Thornton (Orian Hays)  female   \n",
       "\n",
       "     age  sibsp  parch      ticket  fare        cabin embarked  \n",
       "0  30.27      0      0      112051   0.0      unknown        S  \n",
       "1  49.00      0      0      112058   0.0  B52 B54 B56        S  \n",
       "2  46.00      0      0         694  26.0      unknown        S  \n",
       "3  49.00      0      0       19924  26.0      unknown        S  \n",
       "4  25.00      0      0       13905  26.0      unknown        C  \n",
       "5  30.27      0      0      111163  26.0      unknown        S  \n",
       "6  30.00      0      0      110469  26.0         C106        S  \n",
       "7  50.00      0      0      113044  26.0          E60        S  \n",
       "8  55.00      0      0         680  50.0          C39        S  \n",
       "9  27.00      1      2  F.C. 12750  52.0          B71        S  "
      ]
     },
     "execution_count": 103,
     "metadata": {},
     "output_type": "execute_result"
    }
   ],
   "source": [
    "# Trabalhar com o Dataframe\n",
    "dataframe"
   ]
  },
  {
   "cell_type": "code",
   "execution_count": null,
   "metadata": {},
   "outputs": [],
   "source": []
  }
 ],
 "metadata": {
  "colab": {
   "collapsed_sections": [],
   "name": "Consulta no BigQuery com Pandas.ipynb",
   "provenance": []
  },
  "kernelspec": {
   "display_name": "Python 3 (ipykernel)",
   "language": "python",
   "name": "python3"
  },
  "language_info": {
   "codemirror_mode": {
    "name": "ipython",
    "version": 3
   },
   "file_extension": ".py",
   "mimetype": "text/x-python",
   "name": "python",
   "nbconvert_exporter": "python",
   "pygments_lexer": "ipython3",
   "version": "3.8.10"
  }
 },
 "nbformat": 4,
 "nbformat_minor": 4
}
